{
 "cells": [
  {
   "cell_type": "code",
   "execution_count": null,
   "id": "7ee7971a",
   "metadata": {},
   "outputs": [],
   "source": [
    "import pandas as pd\n",
    "import warnings\n",
    "warnings.filterwarnings(\"ignore\")"
   ]
  },
  {
   "cell_type": "code",
   "execution_count": null,
   "id": "799a437e",
   "metadata": {},
   "outputs": [],
   "source": [
    "# Function to read the CSV file into a DataFrame\n",
    "def read_csv():\n",
    "    # read the user_transactions.csv file using pandas library and return it\n",
    "    df = pd.read_csv('user_transactions.csv')\n",
    "    return df"
   ]
  },
  {
   "cell_type": "code",
   "execution_count": null,
   "id": "2927f958",
   "metadata": {},
   "outputs": [],
   "source": [
    "# Function to check for null (missing) values in the DataFrame\n",
    "def check_null_values():\n",
    "    # do not edit the predefined function name\n",
    "    df = read_csv()\n",
    "    # Check for null values using the isnull() method and sum them for each column\n",
    "    null_values = df.isna().sum()\n",
    "    return null_values"
   ]
  },
  {
   "cell_type": "code",
   "execution_count": null,
   "id": "935b39ac",
   "metadata": {},
   "outputs": [],
   "source": [
    "# Function to check for duplicate rows in the DataFrame\n",
    "def check_duplicates():\n",
    "    # do not edit the predefined function name\n",
    "    df = read_csv()\n",
    "    # Calculate the number of duplicate rows using the duplicated() method and sum them\n",
    "    duplicates = df.duplicated().sum()\n",
    "    return duplicates"
   ]
  },
  {
   "cell_type": "code",
   "execution_count": null,
   "id": "eec158ad",
   "metadata": {},
   "outputs": [],
   "source": [
    "# Function to drop duplicate rows from the DataFrame\n",
    "def drop_duplicates():\n",
    "    # do not edit the predefined function name\n",
    "    df = read_csv()\n",
    "    # Drop duplicate rows using the drop_duplicates() method with inplace=True\n",
    "    df.drop_duplicates(inplace = True)\n",
    "    return df"
   ]
  },
  {
   "cell_type": "code",
   "execution_count": null,
   "id": "367373c4",
   "metadata": {},
   "outputs": [],
   "source": [
    "def data_cleaning():\n",
    "    \"\"\"\n",
    "    Data Cleaning Function:\n",
    "    Cleans the DataFrame by dropping specified columns and renaming others.\n",
    "\n",
    "    Returns:\n",
    "    DataFrame: The cleaned DataFrame after dropping and renaming columns.\n",
    "    \"\"\"\n",
    "    # Step 1: Get the DataFrame with duplicate rows removed and rows with null values dropped\n",
    "    df = drop_duplicates()\n",
    "\n",
    "    # Step 2: Columns to remove from the DataFrame\n",
    "    #columns needs to be removed \"has_credit_card\" and  \"account_type\"\n",
    "    # Drop specified columns from the DataFrame\n",
    "    df = df.drop(columns=['has_credit_card','account_type'])\n",
    "\n",
    "    #Rename columns id_,t_date,t_type,t_amt to consumer_id,transaction_date,transaction_type,transaction_amount\n",
    "    df = df.rename(columns = {'id_': 'consumer_id', 't_date': 'transaction_date', 't_type': 'transaction_type','t_amt':'transaction_amount'})\n",
    "\n",
    "    # Step 3: Rename columns using the new column names\n",
    "    #df.to_csv('user_transaction_cleaned.csv', index=False)\n",
    "    df.to_csv(\"user_transaction_cleaned.csv\",index=False)\n",
    "    return df"
   ]
  }
 ],
 "metadata": {
  "kernelspec": {
   "display_name": "Python 3 (ipykernel)",
   "language": "python",
   "name": "python3"
  },
  "language_info": {
   "codemirror_mode": {
    "name": "ipython",
    "version": 3
   },
   "file_extension": ".py",
   "mimetype": "text/x-python",
   "name": "python",
   "nbconvert_exporter": "python",
   "pygments_lexer": "ipython3",
   "version": "3.11.4"
  }
 },
 "nbformat": 4,
 "nbformat_minor": 5
}
