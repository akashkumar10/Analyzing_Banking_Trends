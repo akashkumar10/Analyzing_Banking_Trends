{
 "cells": [
  {
   "cell_type": "code",
   "execution_count": null,
   "id": "7aedd65c",
   "metadata": {},
   "outputs": [],
   "source": [
    "import pandas as pd\n",
    "import warnings\n",
    "warnings.filterwarnings(\"ignore\")"
   ]
  },
  {
   "cell_type": "code",
   "execution_count": null,
   "id": "c020dcc0",
   "metadata": {},
   "outputs": [],
   "source": [
    "# Function to read the CSV file into a DataFrame\n",
    "def read_csv():\n",
    "    # read the user_nodes.csv file using pandas library and return it\n",
    "    df = pd.read_csv('user_nodes.csv')\n",
    "    return df"
   ]
  },
  {
   "cell_type": "code",
   "execution_count": null,
   "id": "77073d4a",
   "metadata": {},
   "outputs": [],
   "source": [
    "# Function to check for null (missing) values in the DataFrame\n",
    "def check_null_values():\n",
    "    # do not edit the predefined function name\n",
    "    df = read_csv()\n",
    "    # Check for null values using the isnull() method and sum them for each column\n",
    "    nan_count = df.isna().sum()\n",
    "    return nan_count"
   ]
  },
  {
   "cell_type": "code",
   "execution_count": null,
   "id": "40261653",
   "metadata": {},
   "outputs": [],
   "source": [
    "# Function to check for duplicate rows in the DataFrame\n",
    "def check_duplicates():\n",
    "    # do not edit the predefined function name\n",
    "    df = read_csv()\n",
    "    # Calculate the number of duplicate rows using the duplicated() method and sum them\n",
    "    duplicates = df.duplicated().sum()\n",
    "    return duplicates"
   ]
  },
  {
   "cell_type": "code",
   "execution_count": null,
   "id": "ff3e4d61",
   "metadata": {},
   "outputs": [],
   "source": [
    "# Function to drop duplicate rows from the DataFrame\n",
    "def drop_duplicates():\n",
    "    # do not edit the predefined function name\n",
    "    df = read_csv()\n",
    "    # Drop duplicate rows using the drop_duplicates() method with inplace=True\n",
    "    df.drop_duplicates(inplace = True)\n",
    "    return df"
   ]
  },
  {
   "cell_type": "code",
   "execution_count": null,
   "id": "36d7b37e",
   "metadata": {},
   "outputs": [],
   "source": [
    "def data_cleaning():\n",
    "    \"\"\"\n",
    "    Data Cleaning Function:\n",
    "    Cleans the DataFrame by dropping specified columns and renaming others.\n",
    "\n",
    "    Returns:\n",
    "    DataFrame: The cleaned DataFrame after dropping and renaming columns.\n",
    "    \"\"\"\n",
    "    # Step 1: Get the DataFrame with duplicate rows removed and rows with null values dropped\n",
    "    df = drop_duplicates()\n",
    "\n",
    "    # Step 2: Columns to remove from the DataFrame\n",
    "    #columns needs to be removed \"has_loan\" and \"is_act\"\n",
    "    # Drop specified columns from the DataFrame\n",
    "    df = df.drop(columns=['has_loan','is_act'])\n",
    "    \n",
    "    #Rename columns names id_,area_id_,node_id_,act_date',deact_date to  consumer_id,region_id,node_id,start_date,end_date\n",
    "    df = df.rename(columns = {'id_': 'consumer_id', 'area_id_': 'region_id', 'node_id_': 'node_id','act_date':'start_date','deact_date':'end_date'})\n",
    "    \n",
    "    # Step 3: Rename columns using the new column names\n",
    "    #df.to_csv('user_nodes_cleaned.csv', index=False)\n",
    "    df.to_csv(\"user_nodes_cleaned.csv\",index=False)\n",
    "    return df"
   ]
  }
 ],
 "metadata": {
  "kernelspec": {
   "display_name": "Python 3 (ipykernel)",
   "language": "python",
   "name": "python3"
  },
  "language_info": {
   "codemirror_mode": {
    "name": "ipython",
    "version": 3
   },
   "file_extension": ".py",
   "mimetype": "text/x-python",
   "name": "python",
   "nbconvert_exporter": "python",
   "pygments_lexer": "ipython3",
   "version": "3.11.4"
  }
 },
 "nbformat": 4,
 "nbformat_minor": 5
}
